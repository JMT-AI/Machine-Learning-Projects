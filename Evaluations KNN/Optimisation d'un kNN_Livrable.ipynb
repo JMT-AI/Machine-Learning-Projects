{
 "cells": [
  {
   "cell_type": "markdown",
   "metadata": {},
   "source": [
    "<h1 align=center> Optimisation d'un K-nn regresseur pour prédire la qualité de vin rouge  </h1>"
   ]
  },
  {
   "cell_type": "markdown",
   "metadata": {},
   "source": [
    "<h2 align=center>CentraleSupélec-OpenClassrooms Certifiyng Training</h2>\n",
    "\n",
    "<h3 align=center>Jean Martial Tagro </h3>"
   ]
  },
  {
   "cell_type": "markdown",
   "metadata": {},
   "source": [
    "On prend le jeu de données sur le vinho verde rouge qui contient des informations physico-chimiques de vins rouge portugais, ainsi que leur qualité telle que notée par des humains.\n",
    "\n",
    "L'étude consiste à évaluer le modèle pour optimiser l'algorithme K-nn via différents critères de performance (MSE, R-squared) et choisir les meilleurs hyper-paramètres (le nombre de voisins), à l’aide d’une grid search."
   ]
  },
  {
   "cell_type": "code",
   "execution_count": 2,
   "metadata": {},
   "outputs": [
    {
     "name": "stdout",
     "output_type": "stream",
     "text": [
      "Populating the interactive namespace from numpy and matplotlib\n"
     ]
    }
   ],
   "source": [
    "import pandas as pd\n",
    "%pylab inline\n",
    "\n",
    "from sklearn import model_selection\n",
    "from sklearn.model_selection import StratifiedKFold\n",
    "from sklearn import neighbors\n",
    "from sklearn import preprocessing\n",
    "from sklearn import metrics"
   ]
  },
  {
   "cell_type": "markdown",
   "metadata": {},
   "source": [
    "### 1. Obtention et traitement du dataset"
   ]
  },
  {
   "cell_type": "code",
   "execution_count": 3,
   "metadata": {},
   "outputs": [],
   "source": [
    "data = pd.read_csv('winequality-red.csv', sep=\";\")"
   ]
  },
  {
   "cell_type": "code",
   "execution_count": 4,
   "metadata": {},
   "outputs": [
    {
     "name": "stdout",
     "output_type": "stream",
     "text": [
      "Index(['fixed acidity', 'volatile acidity', 'citric acid', 'residual sugar',\n",
      "       'chlorides', 'free sulfur dioxide', 'total sulfur dioxide', 'density',\n",
      "       'pH', 'sulphates', 'alcohol', 'quality'],\n",
      "      dtype='object')\n"
     ]
    }
   ],
   "source": [
    "print(data.columns)"
   ]
  },
  {
   "cell_type": "code",
   "execution_count": 5,
   "metadata": {},
   "outputs": [
    {
     "data": {
      "text/html": [
       "<div>\n",
       "<style scoped>\n",
       "    .dataframe tbody tr th:only-of-type {\n",
       "        vertical-align: middle;\n",
       "    }\n",
       "\n",
       "    .dataframe tbody tr th {\n",
       "        vertical-align: top;\n",
       "    }\n",
       "\n",
       "    .dataframe thead th {\n",
       "        text-align: right;\n",
       "    }\n",
       "</style>\n",
       "<table border=\"1\" class=\"dataframe\">\n",
       "  <thead>\n",
       "    <tr style=\"text-align: right;\">\n",
       "      <th></th>\n",
       "      <th>fixed acidity</th>\n",
       "      <th>volatile acidity</th>\n",
       "      <th>citric acid</th>\n",
       "      <th>residual sugar</th>\n",
       "      <th>chlorides</th>\n",
       "      <th>free sulfur dioxide</th>\n",
       "      <th>total sulfur dioxide</th>\n",
       "      <th>density</th>\n",
       "      <th>pH</th>\n",
       "      <th>sulphates</th>\n",
       "      <th>alcohol</th>\n",
       "      <th>quality</th>\n",
       "    </tr>\n",
       "  </thead>\n",
       "  <tbody>\n",
       "    <tr>\n",
       "      <th>0</th>\n",
       "      <td>7.4</td>\n",
       "      <td>0.70</td>\n",
       "      <td>0.00</td>\n",
       "      <td>1.9</td>\n",
       "      <td>0.076</td>\n",
       "      <td>11.0</td>\n",
       "      <td>34.0</td>\n",
       "      <td>0.9978</td>\n",
       "      <td>3.51</td>\n",
       "      <td>0.56</td>\n",
       "      <td>9.4</td>\n",
       "      <td>5</td>\n",
       "    </tr>\n",
       "    <tr>\n",
       "      <th>1</th>\n",
       "      <td>7.8</td>\n",
       "      <td>0.88</td>\n",
       "      <td>0.00</td>\n",
       "      <td>2.6</td>\n",
       "      <td>0.098</td>\n",
       "      <td>25.0</td>\n",
       "      <td>67.0</td>\n",
       "      <td>0.9968</td>\n",
       "      <td>3.20</td>\n",
       "      <td>0.68</td>\n",
       "      <td>9.8</td>\n",
       "      <td>5</td>\n",
       "    </tr>\n",
       "    <tr>\n",
       "      <th>2</th>\n",
       "      <td>7.8</td>\n",
       "      <td>0.76</td>\n",
       "      <td>0.04</td>\n",
       "      <td>2.3</td>\n",
       "      <td>0.092</td>\n",
       "      <td>15.0</td>\n",
       "      <td>54.0</td>\n",
       "      <td>0.9970</td>\n",
       "      <td>3.26</td>\n",
       "      <td>0.65</td>\n",
       "      <td>9.8</td>\n",
       "      <td>5</td>\n",
       "    </tr>\n",
       "    <tr>\n",
       "      <th>3</th>\n",
       "      <td>11.2</td>\n",
       "      <td>0.28</td>\n",
       "      <td>0.56</td>\n",
       "      <td>1.9</td>\n",
       "      <td>0.075</td>\n",
       "      <td>17.0</td>\n",
       "      <td>60.0</td>\n",
       "      <td>0.9980</td>\n",
       "      <td>3.16</td>\n",
       "      <td>0.58</td>\n",
       "      <td>9.8</td>\n",
       "      <td>6</td>\n",
       "    </tr>\n",
       "    <tr>\n",
       "      <th>4</th>\n",
       "      <td>7.4</td>\n",
       "      <td>0.70</td>\n",
       "      <td>0.00</td>\n",
       "      <td>1.9</td>\n",
       "      <td>0.076</td>\n",
       "      <td>11.0</td>\n",
       "      <td>34.0</td>\n",
       "      <td>0.9978</td>\n",
       "      <td>3.51</td>\n",
       "      <td>0.56</td>\n",
       "      <td>9.4</td>\n",
       "      <td>5</td>\n",
       "    </tr>\n",
       "  </tbody>\n",
       "</table>\n",
       "</div>"
      ],
      "text/plain": [
       "   fixed acidity  volatile acidity  citric acid  residual sugar  chlorides  \\\n",
       "0            7.4              0.70         0.00             1.9      0.076   \n",
       "1            7.8              0.88         0.00             2.6      0.098   \n",
       "2            7.8              0.76         0.04             2.3      0.092   \n",
       "3           11.2              0.28         0.56             1.9      0.075   \n",
       "4            7.4              0.70         0.00             1.9      0.076   \n",
       "\n",
       "   free sulfur dioxide  total sulfur dioxide  density    pH  sulphates  \\\n",
       "0                 11.0                  34.0   0.9978  3.51       0.56   \n",
       "1                 25.0                  67.0   0.9968  3.20       0.68   \n",
       "2                 15.0                  54.0   0.9970  3.26       0.65   \n",
       "3                 17.0                  60.0   0.9980  3.16       0.58   \n",
       "4                 11.0                  34.0   0.9978  3.51       0.56   \n",
       "\n",
       "   alcohol  quality  \n",
       "0      9.4        5  \n",
       "1      9.8        5  \n",
       "2      9.8        5  \n",
       "3      9.8        6  \n",
       "4      9.4        5  "
      ]
     },
     "execution_count": 5,
     "metadata": {},
     "output_type": "execute_result"
    }
   ],
   "source": [
    "data.head()\n",
    "#print(data.shape)"
   ]
  },
  {
   "cell_type": "code",
   "execution_count": 6,
   "metadata": {},
   "outputs": [],
   "source": [
    "# Extraction en 2 arrays numpy les points et étiquettes\n",
    "X = data[data.columns[:-1]].values\n",
    "y = data['quality'].values"
   ]
  },
  {
   "cell_type": "code",
   "execution_count": 12,
   "metadata": {},
   "outputs": [
    {
     "data": {
      "image/png": "[encoded data removed]",
      "text/plain": [
       "<Figure size 1152x864 with 11 Axes>"
      ]
     },
     "metadata": {
      "needs_background": "light"
     },
     "output_type": "display_data"
    }
   ],
   "source": [
    "# Observation des features\n",
    "\n",
    "fig = plt.figure(figsize=(16,12))\n",
    "\n",
    "for feat_idx in range(X.shape[1]):\n",
    "    ax = fig.add_subplot(3,4, (feat_idx+1))\n",
    "    h = ax.hist(X[:, feat_idx], bins=50, color='steelblue', density=True, edgecolor='none')\n",
    "    ax.set_title(data.columns[feat_idx], fontsize=14)"
   ]
  },
  {
   "cell_type": "markdown",
   "metadata": {},
   "source": [
    "On remarque que les features occupent des plages de données ne sont pas uniformément distribuées. On va donc standardiser, pour éviter par exemple que la feature 'total sulfur dioxyde' n'écrase pas les autres."
   ]
  },
  {
   "cell_type": "markdown",
   "metadata": {},
   "source": [
    "#### Séparons nos données en un jeu de test et un jeu d'entraînement :"
   ]
  },
  {
   "cell_type": "code",
   "execution_count": 13,
   "metadata": {},
   "outputs": [],
   "source": [
    "X_train, X_test, y_train, y_test = model_selection.train_test_split(X, y, test_size=0.3)"
   ]
  },
  {
   "cell_type": "markdown",
   "metadata": {},
   "source": [
    "#### Standardisons les données"
   ]
  },
  {
   "cell_type": "code",
   "execution_count": 15,
   "metadata": {},
   "outputs": [],
   "source": [
    "std_scale = preprocessing.StandardScaler().fit(X_train)\n",
    "X_train_std = std_scale.transform(X_train)\n",
    "X_test_std = std_scale.transform(X_test)"
   ]
  },
  {
   "cell_type": "code",
   "execution_count": 16,
   "metadata": {},
   "outputs": [
    {
     "data": {
      "image/png": "[encoded data removed]",
      "text/plain": [
       "<Figure size 1152x864 with 11 Axes>"
      ]
     },
     "metadata": {
      "needs_background": "light"
     },
     "output_type": "display_data"
    }
   ],
   "source": [
    "# On check la standardisation\n",
    "\n",
    "fig = plt.figure(figsize=(16,12))\n",
    "\n",
    "for feat_idx in range(X_train_std.shape[1]):\n",
    "    ax = fig.add_subplot(3,4, (feat_idx+1))\n",
    "    h = ax.hist(X_train_std[:, feat_idx], bins=50, color='steelblue', density=True, edgecolor='none')\n",
    "    ax.set_title(data.columns[feat_idx], fontsize=14)"
   ]
  },
  {
   "cell_type": "markdown",
   "metadata": {},
   "source": [
    "---"
   ]
  },
  {
   "cell_type": "markdown",
   "metadata": {},
   "source": [
    "### 2. Pré-évaluation par approches naïves"
   ]
  },
  {
   "cell_type": "markdown",
   "metadata": {},
   "source": [
    "#### 2.1. Approche naïve sur la moyenne des scores (qualité)"
   ]
  },
  {
   "cell_type": "markdown",
   "metadata": {},
   "source": [
    "Comparons maintenant notre modèle à un modèle aléatoire qui retourne systématiquement la valeur moyenne des étiquettes du jeu de données d'entraînement."
   ]
  },
  {
   "cell_type": "code",
   "execution_count": 29,
   "metadata": {},
   "outputs": [
    {
     "name": "stdout",
     "output_type": "stream",
     "text": [
      "Le RMSE du modèle naïf retournant systématiquement la moyenne des valeurs du jeu d'entrainement est : 0.80\n"
     ]
    }
   ],
   "source": [
    "from sklearn import dummy\n",
    "dum = dummy.DummyRegressor(strategy='mean') # on prend la moyenne des valeurs du jeu d'entrainement\n",
    "\n",
    "# on fitte (entraine)\n",
    "dum.fit(X_train_std, y_train)\n",
    "\n",
    "# Prédiction sur le jeu de test\n",
    "y_pred_dum = dum.predict(X_test_std)\n",
    "\n",
    "# Evaluation\n",
    "print(\"Le RMSE du modèle naïf retournant systématiquement la moyenne des valeurs du jeu d'entrainement est : {:.2f}\".format(np.sqrt(metrics.mean_squared_error(y_test, y_pred_dum)) ))"
   ]
  },
  {
   "cell_type": "markdown",
   "metadata": {},
   "source": [
    "#### 2.2. Approche naïve sur la prédiction aléatoire de scores (qualité)"
   ]
  },
  {
   "cell_type": "markdown",
   "metadata": {},
   "source": [
    "Comparons-le maintenant à une deuxième approche naïve, qui consiste à prédire des valeurs aléatoires, distribuées uniformément entre les valeurs basse et haute des étiquettes du jeu de données d'entraînement."
   ]
  },
  {
   "cell_type": "code",
   "execution_count": 30,
   "metadata": {},
   "outputs": [
    {
     "name": "stdout",
     "output_type": "stream",
     "text": [
      "Le RMSE du modèle naïf retournant systématiquement la moyenne des valeurs du jeu d'entrainement est : 1.67\n"
     ]
    }
   ],
   "source": [
    "# on genère les valeurs aléatoires entre les valeurs de la target min et max du jeu \n",
    "# d'entrainement à la taille du jeu de test\n",
    "y_pred_random = np.random.randint(np.min(y), np.max(y), y_test.shape)\n",
    "\n",
    "# Evaluation\n",
    "print(\"Le RMSE du modèle naïf retournant systématiquement la moyenne des valeurs du jeu d'entrainement est : {:.2f}\".format(np.sqrt(metrics.mean_squared_error(y_test, y_pred_random))))"
   ]
  },
  {
   "cell_type": "markdown",
   "metadata": {},
   "source": [
    "On peut déjà voir que, sur ce dataset, <strong>le modèle retournant systématiquement la moyenne est meilleur que le modèle aléatoire</strong> car ayant une RMSE inférieure.\n",
    "<br>"
   ]
  },
  {
   "cell_type": "markdown",
   "metadata": {},
   "source": [
    "---"
   ]
  },
  {
   "cell_type": "markdown",
   "metadata": {},
   "source": [
    "### 3. Implémentation de gridSearch_MSE"
   ]
  },
  {
   "cell_type": "markdown",
   "metadata": {},
   "source": [
    "<p>Dans la suite, on va implémenter un algorithme K-nn dont on va chercher à optimiser l'hyper-paramètre K via une Grid search, gridSearch_MSE en comparant les MSE (Mean Squared Error) qui devront être normalement inférieur à celui de la baseline retournant la valeur moyenne, i.e RSE 0.80</p>"
   ]
  },
  {
   "cell_type": "markdown",
   "metadata": {},
   "source": [
    "L'objectif ici est l'implémemtation d'une Grid Search pour une Cross validation qui compare les performances de différents K-nn en termes de MSE, R-squared. Cette fonction devra retourner le meilleur modèle (hyper-paramètre) qui minimise le MSE ou le RMSE ici."
   ]
  },
  {
   "cell_type": "code",
   "execution_count": 56,
   "metadata": {},
   "outputs": [],
   "source": [
    "# implementation de la fonction gridSearch_MSE\n",
    "\n",
    "def gridSearch_MSE(hyperparams, cv):\n",
    "    \n",
    "    \"\"\"\n",
    "    Cette fonction execute une validation croisée sur différents k-NN\n",
    "    entrées : cv nombre de folds, hyperparams liste des hyperparamètres k-NN à tester\n",
    "    sorties : Les performances des modèles testées : RMSE, R-Squared \n",
    "    \"\"\"\n",
    "    \n",
    "    k_optimal = 0\n",
    "    means_rmse = [] # pour stocker les RMSE moyens en vue de la selection du meilleur K\n",
    "    means_rsquared = [] # pour stocker les R-squared moyens\n",
    "    \n",
    "    # Creation des folds stratifiés\n",
    "    skf = StratifiedKFold(n_splits=cv, random_state=None) \n",
    "    \n",
    "    # pour chaque hyperparams, on fait la validation croisée\n",
    "    for index, valeur_k in enumerate(hyperparams):\n",
    "        \n",
    "        rmse = []\n",
    "        r_squared = []\n",
    "        \n",
    "        # construction du k-nn regresseur correspondant\n",
    "        knn = neighbors.KNeighborsRegressor(valeur_k)      \n",
    "        \n",
    "        # pour chaque fold\n",
    "        for train, test in skf.split(X_train_std, y_train): # Attention : train, test sont des index\n",
    "            \n",
    "            knn.fit(X_train_std[train], y_train[train])\n",
    "            predict = knn.predict(X_train_std[test])\n",
    "\n",
    "            # on calcule le RMSE et le R-quared et on les mets dans les listes correspondantes\n",
    "            rmse.append(np.sqrt(metrics.mean_squared_error(y_train[test], predict)))            \n",
    "            r_squared.append(metrics.r2_score(y_train[test], predict))\n",
    "        \n",
    "        rmse_knn = np.mean(rmse) #RMSE moyen des folds pour l'hyper-parametre\n",
    "        r_squared_knn = np.mean(r_squared) #R-Squared moyen des folds pour l'hyper-parametre\n",
    "        \n",
    "        means_rmse.append(rmse_knn)\n",
    "        means_rsquared.append(r_squared_knn)\n",
    "        \n",
    "        print(\"(RMSE = {:.2f} / R-Squared = {:.2f} ) for neighbors = {}\".format( rmse_knn, r_squared_knn, valeur_k))\n",
    "        \n",
    "        # le meilleur K minimise le RMSE\n",
    "        if (rmse_knn == min(means_rmse)):\n",
    "            k_optimal = valeur_k\n",
    "        \n",
    "    print(\"Le meilleur hyperparamètre sur le jeu d'entrainement selon gridSearch_MSE est K = \", k_optimal)\n",
    "    print(\"Le {}-NN a le RMSE minimal qui est RMSE = {:.2f}\".format(k_optimal, min(means_rmse)))"
   ]
  },
  {
   "cell_type": "markdown",
   "metadata": {},
   "source": [
    "---"
   ]
  },
  {
   "cell_type": "code",
   "execution_count": 64,
   "metadata": {},
   "outputs": [
    {
     "name": "stdout",
     "output_type": "stream",
     "text": [
      "(RMSE = 0.71 / R-Squared = 0.22 ) for neighbors = 3\n",
      "(RMSE = 0.69 / R-Squared = 0.27 ) for neighbors = 5\n",
      "(RMSE = 0.68 / R-Squared = 0.29 ) for neighbors = 7\n",
      "(RMSE = 0.67 / R-Squared = 0.31 ) for neighbors = 9\n",
      "(RMSE = 0.67 / R-Squared = 0.31 ) for neighbors = 11\n",
      "(RMSE = 0.67 / R-Squared = 0.32 ) for neighbors = 13\n",
      "(RMSE = 0.67 / R-Squared = 0.31 ) for neighbors = 15\n",
      "(RMSE = 0.67 / R-Squared = 0.31 ) for neighbors = 17\n",
      "(RMSE = 0.68 / R-Squared = 0.30 ) for neighbors = 19\n",
      "(RMSE = 0.68 / R-Squared = 0.30 ) for neighbors = 21\n",
      "(RMSE = 0.68 / R-Squared = 0.30 ) for neighbors = 22\n",
      "(RMSE = 0.68 / R-Squared = 0.30 ) for neighbors = 25\n",
      "Le meilleur hyperparamètre sur le jeu d'entrainement selon gridSearch_MSE est K =  13\n",
      "Le 13-NN a le RMSE minimal qui est RMSE = 0.67\n"
     ]
    }
   ],
   "source": [
    "# Appel de gridSearch_MSE sur 5 folds et K dans [3, 5, ...25]\n",
    "gridSearch_MSE([3, 5, 7, 9, 11, 13, 15, 17, 19, 21, 22, 25], 5)"
   ]
  },
  {
   "cell_type": "markdown",
   "metadata": {},
   "source": [
    "Notre fonction grid search a trouvé le K-nn qui minimise l'erreur quadratique moyenne, en l'occurence le 13-NN dont RMSE=0.67. Cependant, cette performance est un peu biaisée car correspond à celle sur le jeu d'entrainement global de la validation croisée.\n",
    "Pour obtenir la performance définitive, on fait l'évalue sur le jeu de test extérieur global à la validation croisée."
   ]
  },
  {
   "cell_type": "markdown",
   "metadata": {},
   "source": [
    "---"
   ]
  },
  {
   "cell_type": "markdown",
   "metadata": {},
   "source": [
    "### 4. Performance finale globale du 13-NN sur le jeu de test extérieur"
   ]
  },
  {
   "cell_type": "code",
   "execution_count": 65,
   "metadata": {},
   "outputs": [
    {
     "data": {
      "text/plain": [
       "KNeighborsRegressor(algorithm='auto', leaf_size=30, metric='minkowski',\n",
       "                    metric_params=None, n_jobs=None, n_neighbors=13, p=2,\n",
       "                    weights='uniform')"
      ]
     },
     "execution_count": 65,
     "metadata": {},
     "output_type": "execute_result"
    }
   ],
   "source": [
    "knn = neighbors.KNeighborsRegressor(13)\n",
    "\n",
    "#on fitte sur l'ensemble du jeu d'entrainement global cette fois\n",
    "knn.fit(X_train_std, y_train)"
   ]
  },
  {
   "cell_type": "code",
   "execution_count": 66,
   "metadata": {},
   "outputs": [
    {
     "name": "stdout",
     "output_type": "stream",
     "text": [
      "Le 13-NN a une RMSE finale de 0.6509362094076107\n"
     ]
    }
   ],
   "source": [
    "predictions = knn.predict(X_test_std)\n",
    "\n",
    "print(\"Le 13-NN a une RMSE finale de {}\".format(np.sqrt(metrics.mean_squared_error(y_test, predictions))))"
   ]
  },
  {
   "cell_type": "markdown",
   "metadata": {},
   "source": [
    "<h3><font color='steelblue'>Meilleure Performance que celles des approches naïves !</font></h3>"
   ]
  },
  {
   "cell_type": "markdown",
   "metadata": {},
   "source": [
    "---"
   ]
  },
  {
   "cell_type": "code",
   "execution_count": 59,
   "metadata": {},
   "outputs": [],
   "source": [
    "#On pourrait utiliser la grid search originale\n",
    "\n",
    "#clf = model_selection.GridSearchCV(\n",
    "#    neighbors.KNeighborsClassifier(), # un classifieur kNN\n",
    "#    param_grid,     # hyperparamètres à tester\n",
    "#    cv=5,           # nombre de folds de validation croisée\n",
    "#    scoring='RSE'   # score à optimiser\n",
    "#)"
   ]
  },
  {
   "cell_type": "code",
   "execution_count": 67,
   "metadata": {},
   "outputs": [
    {
     "data": {
      "image/png": "[encoded data removed]",
      "text/plain": [
       "<Figure size 432x288 with 1 Axes>"
      ]
     },
     "metadata": {
      "needs_background": "light"
     },
     "output_type": "display_data"
    }
   ],
   "source": [
    "# Representation\n",
    "plt.scatter(y_test, predictions, color='coral')\n",
    "plt.xlabel('Vraies valeurs', fontsize=14)\n",
    "plt.ylabel('Valeurs prédictes', fontsize=14)\n",
    "plt.show()"
   ]
  },
  {
   "cell_type": "code",
   "execution_count": null,
   "metadata": {},
   "outputs": [],
   "source": []
  }
 ],
 "metadata": {
  "kernelspec": {
   "display_name": "Python 3",
   "language": "python",
   "name": "python3"
  },
  "language_info": {
   "codemirror_mode": {
    "name": "ipython",
    "version": 3
   },
   "file_extension": ".py",
   "mimetype": "text/x-python",
   "name": "python",
   "nbconvert_exporter": "python",
   "pygments_lexer": "ipython3",
   "version": "3.7.6"
  }
 },
 "nbformat": 4,
 "nbformat_minor": 4
}
