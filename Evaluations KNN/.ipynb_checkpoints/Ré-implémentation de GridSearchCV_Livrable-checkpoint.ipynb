{
 "cells": [
  {
   "cell_type": "markdown",
   "metadata": {},
   "source": [
    "## <h2 align=center> Ré-implémentation de la fonction GridSearchCV de la librairie scikit-learn pour la prédiction de la qualité du vin</h2>"
   ]
  },
  {
   "cell_type": "markdown",
   "metadata": {},
   "source": [
    "<h3 align=center>CentraleSupélec-OpenClassrooms Certifiyng Training</h3>\n",
    "\n",
    "<h3 align=center>Jean Martial Tagro </h3>"
   ]
  },
  {
   "cell_type": "markdown",
   "metadata": {},
   "source": [
    "Il s'agit d'une ré-implémentation de la fonction de validation croisée de la libraire scikit-learn (la fonction GridSearchCV), dans l’objectif d’effectuer la classification du dataset sur la qualité du vin.<br>\n",
    "<strong>Attentes :</strong>\n",
    "L’algorithme devra permettre d’optimiser l’accuracy du modèle. La fonction prendra en entrée le tableau des hyperparamètres à tester ainsi que le nombre de folds. On utilisera des folds exacts (non randomisé) afin de pouvoir comparer les résultats.\n",
    "\n",
    "Il s'agira ensuite de comparer les performances de mon implémentation par rapport à l’implémentation scikit-learn effectuée lors du TP. Pour cela, le professeur, <b>Chloé-Agathe Azencott</b> (Chargée de recherche au CBIO de MINES ParisTech & Institut Curie. Enseignante à CentraleSupélec - Machine learning & bioinformatique), conseille dans un premier temps de ne pas randomiser la sélection des sets, mais de faire une sélection exacte afin de pouvoir comparer des résultats qui doivent être identiques entre votre implémentation et celle de scikit."
   ]
  },
  {
   "cell_type": "code",
   "execution_count": 13,
   "metadata": {},
   "outputs": [],
   "source": [
    "import pandas as pd\n",
    "from sklearn import model_selection\n",
    "from sklearn.model_selection import StratifiedKFold # pour faire la stratification"
   ]
  },
  {
   "cell_type": "code",
   "execution_count": 15,
   "metadata": {},
   "outputs": [
    {
     "name": "stdout",
     "output_type": "stream",
     "text": [
      "Populating the interactive namespace from numpy and matplotlib\n"
     ]
    }
   ],
   "source": [
    "# equiv import numpy et matplotlib\n",
    "%pylab inline "
   ]
  },
  {
   "cell_type": "markdown",
   "metadata": {},
   "source": [
    "### 1. Obtention du dataset"
   ]
  },
  {
   "cell_type": "code",
   "execution_count": 16,
   "metadata": {},
   "outputs": [],
   "source": [
    "data = pd.read_csv('winequality-white.csv', sep=\";\")"
   ]
  },
  {
   "cell_type": "code",
   "execution_count": 17,
   "metadata": {},
   "outputs": [
    {
     "name": "stdout",
     "output_type": "stream",
     "text": [
      "Index(['fixed acidity', 'volatile acidity', 'citric acid', 'residual sugar',\n",
      "       'chlorides', 'free sulfur dioxide', 'total sulfur dioxide', 'density',\n",
      "       'pH', 'sulphates', 'alcohol', 'quality'],\n",
      "      dtype='object')\n"
     ]
    }
   ],
   "source": [
    "print(data.columns)"
   ]
  },
  {
   "cell_type": "code",
   "execution_count": 18,
   "metadata": {},
   "outputs": [
    {
     "data": {
      "text/html": [
       "<div>\n",
       "<style scoped>\n",
       "    .dataframe tbody tr th:only-of-type {\n",
       "        vertical-align: middle;\n",
       "    }\n",
       "\n",
       "    .dataframe tbody tr th {\n",
       "        vertical-align: top;\n",
       "    }\n",
       "\n",
       "    .dataframe thead th {\n",
       "        text-align: right;\n",
       "    }\n",
       "</style>\n",
       "<table border=\"1\" class=\"dataframe\">\n",
       "  <thead>\n",
       "    <tr style=\"text-align: right;\">\n",
       "      <th></th>\n",
       "      <th>fixed acidity</th>\n",
       "      <th>volatile acidity</th>\n",
       "      <th>citric acid</th>\n",
       "      <th>residual sugar</th>\n",
       "      <th>chlorides</th>\n",
       "      <th>free sulfur dioxide</th>\n",
       "      <th>total sulfur dioxide</th>\n",
       "      <th>density</th>\n",
       "      <th>pH</th>\n",
       "      <th>sulphates</th>\n",
       "      <th>alcohol</th>\n",
       "      <th>quality</th>\n",
       "    </tr>\n",
       "  </thead>\n",
       "  <tbody>\n",
       "    <tr>\n",
       "      <th>0</th>\n",
       "      <td>7.0</td>\n",
       "      <td>0.27</td>\n",
       "      <td>0.36</td>\n",
       "      <td>20.7</td>\n",
       "      <td>0.045</td>\n",
       "      <td>45.0</td>\n",
       "      <td>170.0</td>\n",
       "      <td>1.0010</td>\n",
       "      <td>3.00</td>\n",
       "      <td>0.45</td>\n",
       "      <td>8.8</td>\n",
       "      <td>6</td>\n",
       "    </tr>\n",
       "    <tr>\n",
       "      <th>1</th>\n",
       "      <td>6.3</td>\n",
       "      <td>0.30</td>\n",
       "      <td>0.34</td>\n",
       "      <td>1.6</td>\n",
       "      <td>0.049</td>\n",
       "      <td>14.0</td>\n",
       "      <td>132.0</td>\n",
       "      <td>0.9940</td>\n",
       "      <td>3.30</td>\n",
       "      <td>0.49</td>\n",
       "      <td>9.5</td>\n",
       "      <td>6</td>\n",
       "    </tr>\n",
       "    <tr>\n",
       "      <th>2</th>\n",
       "      <td>8.1</td>\n",
       "      <td>0.28</td>\n",
       "      <td>0.40</td>\n",
       "      <td>6.9</td>\n",
       "      <td>0.050</td>\n",
       "      <td>30.0</td>\n",
       "      <td>97.0</td>\n",
       "      <td>0.9951</td>\n",
       "      <td>3.26</td>\n",
       "      <td>0.44</td>\n",
       "      <td>10.1</td>\n",
       "      <td>6</td>\n",
       "    </tr>\n",
       "    <tr>\n",
       "      <th>3</th>\n",
       "      <td>7.2</td>\n",
       "      <td>0.23</td>\n",
       "      <td>0.32</td>\n",
       "      <td>8.5</td>\n",
       "      <td>0.058</td>\n",
       "      <td>47.0</td>\n",
       "      <td>186.0</td>\n",
       "      <td>0.9956</td>\n",
       "      <td>3.19</td>\n",
       "      <td>0.40</td>\n",
       "      <td>9.9</td>\n",
       "      <td>6</td>\n",
       "    </tr>\n",
       "    <tr>\n",
       "      <th>4</th>\n",
       "      <td>7.2</td>\n",
       "      <td>0.23</td>\n",
       "      <td>0.32</td>\n",
       "      <td>8.5</td>\n",
       "      <td>0.058</td>\n",
       "      <td>47.0</td>\n",
       "      <td>186.0</td>\n",
       "      <td>0.9956</td>\n",
       "      <td>3.19</td>\n",
       "      <td>0.40</td>\n",
       "      <td>9.9</td>\n",
       "      <td>6</td>\n",
       "    </tr>\n",
       "  </tbody>\n",
       "</table>\n",
       "</div>"
      ],
      "text/plain": [
       "   fixed acidity  volatile acidity  citric acid  residual sugar  chlorides  \\\n",
       "0            7.0              0.27         0.36            20.7      0.045   \n",
       "1            6.3              0.30         0.34             1.6      0.049   \n",
       "2            8.1              0.28         0.40             6.9      0.050   \n",
       "3            7.2              0.23         0.32             8.5      0.058   \n",
       "4            7.2              0.23         0.32             8.5      0.058   \n",
       "\n",
       "   free sulfur dioxide  total sulfur dioxide  density    pH  sulphates  \\\n",
       "0                 45.0                 170.0   1.0010  3.00       0.45   \n",
       "1                 14.0                 132.0   0.9940  3.30       0.49   \n",
       "2                 30.0                  97.0   0.9951  3.26       0.44   \n",
       "3                 47.0                 186.0   0.9956  3.19       0.40   \n",
       "4                 47.0                 186.0   0.9956  3.19       0.40   \n",
       "\n",
       "   alcohol  quality  \n",
       "0      8.8        6  \n",
       "1      9.5        6  \n",
       "2     10.1        6  \n",
       "3      9.9        6  \n",
       "4      9.9        6  "
      ]
     },
     "execution_count": 18,
     "metadata": {},
     "output_type": "execute_result"
    }
   ],
   "source": [
    "data.head()"
   ]
  },
  {
   "cell_type": "code",
   "execution_count": 19,
   "metadata": {},
   "outputs": [],
   "source": [
    "# Extraction en 2 arrays numpy les points et étiquettes\n",
    "X = data[data.columns[:-1]].values\n",
    "y = data['quality'].values"
   ]
  },
  {
   "cell_type": "markdown",
   "metadata": {},
   "source": [
    "### Observation de la distribution des 11 variables"
   ]
  },
  {
   "cell_type": "code",
   "execution_count": 20,
   "metadata": {},
   "outputs": [
    {
     "data": {
      "image/png": "[encoded data removed]",
      "text/plain": [
       "<Figure size 1152x864 with 11 Axes>"
      ]
     },
     "metadata": {
      "needs_background": "light"
     },
     "output_type": "display_data"
    }
   ],
   "source": [
    "# Representation\n",
    "fig = plt.figure(figsize=(16,12))\n",
    "\n",
    "for feat_idx in range(X.shape[1]):\n",
    "    ax = fig.add_subplot(3,4, (feat_idx+1))\n",
    "    h = ax.hist(X[:, feat_idx], bins=50, color='steelblue', density=True, edgecolor='none')\n",
    "    ax.set_title(data.columns[feat_idx], fontsize=14)"
   ]
  },
  {
   "cell_type": "markdown",
   "metadata": {},
   "source": [
    "On remarque en particulier que ces variables prennent des valeurs dans des ensembles différents. Par exemple, “sulphates” varie de 0 à 1 tandis que “total sulfur dioxide” varie de 0 à 440. Il va donc nous falloir <b>standardiser</b> les données pour que la deuxième ne domine pas complètement la première."
   ]
  },
  {
   "cell_type": "markdown",
   "metadata": {},
   "source": [
    "### 2. Sélection de modèle"
   ]
  },
  {
   "cell_type": "markdown",
   "metadata": {},
   "source": [
    "#### 2.1 Transformation du problème en problème de classification"
   ]
  },
  {
   "cell_type": "code",
   "execution_count": 21,
   "metadata": {},
   "outputs": [],
   "source": [
    "# On crée 2 classes : quality < 6 (pas terrible) / quality > 6 (bon vin)\n",
    "y_class = np.where(y<6, 0, 1)"
   ]
  },
  {
   "cell_type": "markdown",
   "metadata": {},
   "source": [
    "#### 2.2. Training/test split : <br><br><font color=\"red\">Il s'agit dans un 1er temps de ne pas ramdomiser la selection des sets pour pouvoir bien comparer les résultats</font>"
   ]
  },
  {
   "cell_type": "code",
   "execution_count": 32,
   "metadata": {},
   "outputs": [
    {
     "name": "stdout",
     "output_type": "stream",
     "text": [
      "(4898,)\n",
      "(3428,)\n",
      "(1470,)\n"
     ]
    }
   ],
   "source": [
    "# On fait une sélection fixe des sets (non randomisée avec random_state=0).\n",
    "\n",
    "X_train, X_test, y_train, y_test = model_selection.train_test_split(X, y_class, train_size=0.7, random_state=0)\n",
    "\n",
    "# Check\n",
    "print(y.shape)\n",
    "print(y_train.shape)\n",
    "print(y_test.shape)"
   ]
  },
  {
   "cell_type": "markdown",
   "metadata": {},
   "source": [
    "Il est important de souligner que la fonction train_test_split fait par défaut une stratification"
   ]
  },
  {
   "cell_type": "markdown",
   "metadata": {},
   "source": [
    "#### 2.3 Standardisation des features \n",
    "##### Attention : on ne va évidemment pas standardiser  les étiquettes"
   ]
  },
  {
   "cell_type": "code",
   "execution_count": 33,
   "metadata": {},
   "outputs": [],
   "source": [
    "from sklearn import preprocessing\n",
    "\n",
    "#On standardise les données d’entraînement\n",
    "std_scale = preprocessing.StandardScaler().fit(X_train)\n",
    "X_train_std = std_scale.transform(X_train)\n",
    "\n",
    "#et appliquer la même transformation aux données de test\n",
    "X_test_std = std_scale.transform(X_test)"
   ]
  },
  {
   "cell_type": "markdown",
   "metadata": {},
   "source": [
    "On peut visualiser de nouveau les données pour vérifier que les différentes variables prennent des valeurs qui ont maintenant des ordres de grandewur similaires."
   ]
  },
  {
   "cell_type": "code",
   "execution_count": 34,
   "metadata": {},
   "outputs": [
    {
     "data": {
      "image/png": "[encoded data removed]",
      "text/plain": [
       "<Figure size 1152x864 with 11 Axes>"
      ]
     },
     "metadata": {
      "needs_background": "light"
     },
     "output_type": "display_data"
    }
   ],
   "source": [
    "# Representation\n",
    "fig = plt.figure(figsize=(16,12))\n",
    "\n",
    "for feat_idx in range(X_train_std.shape[1]):\n",
    "    ax = fig.add_subplot(3,4, (feat_idx+1))\n",
    "    h = ax.hist(X_train_std[:, feat_idx], bins=50, color='steelblue', density=True, edgecolor='none')\n",
    "    ax.set_title(data.columns[feat_idx], fontsize=14)"
   ]
  },
  {
   "cell_type": "markdown",
   "metadata": {},
   "source": [
    "### 3. Evaluation des performances avec la fonction originale GridSearchCV ()"
   ]
  },
  {
   "cell_type": "code",
   "execution_count": 35,
   "metadata": {},
   "outputs": [
    {
     "name": "stdout",
     "output_type": "stream",
     "text": [
      "Meilleur(s) hyperparamètre(s) sur le jeu d'entraînement selon la GridSearchCV originale:\n",
      "{'n_neighbors': 5}\n",
      "Résultats de la validation croisée :\n",
      "accuracy = 0.757 (+/-0.032) for {'n_neighbors': 3}\n",
      "accuracy = 0.765 (+/-0.019) for {'n_neighbors': 5}\n",
      "accuracy = 0.756 (+/-0.031) for {'n_neighbors': 7}\n",
      "accuracy = 0.764 (+/-0.023) for {'n_neighbors': 9}\n",
      "accuracy = 0.761 (+/-0.018) for {'n_neighbors': 11}\n",
      "accuracy = 0.760 (+/-0.022) for {'n_neighbors': 13}\n",
      "accuracy = 0.758 (+/-0.016) for {'n_neighbors': 15}\n"
     ]
    }
   ],
   "source": [
    "from sklearn import neighbors, metrics\n",
    "\n",
    "# Fixer les valeurs des hyperparamètres à tester\n",
    "param_grid = {'n_neighbors':[3, 5, 7, 9, 11, 13, 15]}\n",
    "\n",
    "# Choisir un score à optimiser, ici l'accuracy (proportion de prédictions correctes)\n",
    "score = 'accuracy'\n",
    "\n",
    "# Créer un classifieur kNN avec recherche d'hyperparamètre par validation croisée\n",
    "clf = model_selection.GridSearchCV(\n",
    "    neighbors.KNeighborsClassifier(), # un classifieur kNN\n",
    "    param_grid,     # hyperparamètres à tester\n",
    "    cv=5,           # nombre de folds de validation croisée\n",
    "    scoring=score   # score à optimiser\n",
    ")\n",
    "\n",
    "# Optimiser ce classifieur sur le jeu d'entraînement\n",
    "clf.fit(X_train_std, y_train)\n",
    "\n",
    "# Afficher le(s) hyperparamètre(s) optimaux\n",
    "print(\"Meilleur(s) hyperparamètre(s) sur le jeu d'entraînement selon la GridSearchCV originale:\")\n",
    "print(clf.best_params_)\n",
    "\n",
    "# Afficher les performances correspondantes\n",
    "print(\"Résultats de la validation croisée :\")\n",
    "for mean, std, params in zip(\n",
    "        clf.cv_results_['mean_test_score'], # score moyen\n",
    "        clf.cv_results_['std_test_score'],  # écart-type du score\n",
    "        clf.cv_results_['params']           # valeur de l'hyperparamètre\n",
    "    ):\n",
    "\n",
    "    print(\"{} = {:.3f} (+/-{:.03f}) for {}\".format(\n",
    "        score,\n",
    "        mean,\n",
    "        std*2,\n",
    "        params\n",
    "    ) )"
   ]
  },
  {
   "cell_type": "code",
   "execution_count": 37,
   "metadata": {},
   "outputs": [
    {
     "name": "stdout",
     "output_type": "stream",
     "text": [
      "\n",
      "Et la performance finale sur le jeu de test est Perfom1 = 0.750\n"
     ]
    }
   ],
   "source": [
    "y_pred = clf.predict(X_test_std)\n",
    "print(\"\\nEt la performance finale sur le jeu de test est Perfom1 = {:.3f}\".format(metrics.accuracy_score(y_test, y_pred)))"
   ]
  },
  {
   "cell_type": "markdown",
   "metadata": {},
   "source": [
    "------------------------------------------"
   ]
  },
  {
   "cell_type": "markdown",
   "metadata": {},
   "source": [
    "### 4. Implémentation de my_grid_seachCV"
   ]
  },
  {
   "cell_type": "markdown",
   "metadata": {},
   "source": [
    "Nous allons maintenant implémenter notre propre fonction de Validation croisée appelée <b>my_grid_searchCV()</b> pour faire une validation croisée du paramètre k d’un kNN (le nombre de plus proches voisins) sur le jeu d’entraînement :"
   ]
  },
  {
   "cell_type": "code",
   "execution_count": 99,
   "metadata": {},
   "outputs": [],
   "source": [
    "# implementation de la fonction my_grid_searchCV\n",
    "\n",
    "def my_grid_searchCV(hyperparams, cv, score='accuracy'):\n",
    "    \n",
    "    \"\"\"Cette fonction execute une validation croisée sur différents k-NN\n",
    "    entrées : cv nombre de folds, hyperparams liste des hyperparamètres k-NN à tester\n",
    "    sorties : Les performances des modèles testées\"\"\"\n",
    "    \n",
    "    k_optimal = 0\n",
    "    mean_scores = [] # pour stocker les scores moyens des k en vue d'optenir le k optimal\n",
    "    \n",
    "    skf = StratifiedKFold(n_splits=cv, random_state=None)\n",
    "    \n",
    "    # pour chaque hyperparams, on fait la validation croisée (boucle d'execution du modèle pour chaque fold)\n",
    "    for index, valeur_k in enumerate(hyperparams):\n",
    "        \n",
    "        accuracies = []\n",
    "        \n",
    "        # construction du k-nn correspondant\n",
    "        knn = neighbors.KNeighborsClassifier(valeur_k)       \n",
    "        \n",
    "        for train, test in skf.split(X_train_std, y_train): # Attention : train, test sont des index\n",
    "            \n",
    "            #print (X_train_std[train].shape, X_train_std[test].shape)\n",
    "            knn.fit(X_train_std[train], y_train[train])\n",
    "            predict = knn.predict(X_train_std[test])\n",
    "\n",
    "            accuracies.append(knn.score(X_train_std[test], y_train[test]))\n",
    "        \n",
    "        score_moyen = np.mean(accuracies) #score moyen des folds pour l'hyper-parametre\n",
    "        std_score = np.std(accuracies) # ecart-type (deviation...) pour l'hyper-parametre\n",
    "        mean_scores.append(score_moyen)\n",
    "        print(\"{} = {:.3f} (+/-{:.03f}) for {}\".format(score, score_moyen, std_score*2, valeur_k))\n",
    "        \n",
    "        if (score_moyen==max(mean_scores)):\n",
    "            k_optimal = valeur_k\n",
    "        \n",
    "    print(\"Le meilleur hyperparamètre sur le jeu d'entrainement selon my_grid_searchCV() est K = \", k_optimal)\n"
   ]
  },
  {
   "cell_type": "code",
   "execution_count": 100,
   "metadata": {},
   "outputs": [
    {
     "name": "stdout",
     "output_type": "stream",
     "text": [
      "accuracy = 0.757 (+/-0.032) for 3\n",
      "accuracy = 0.765 (+/-0.019) for 5\n",
      "accuracy = 0.756 (+/-0.031) for 7\n",
      "accuracy = 0.764 (+/-0.023) for 9\n",
      "accuracy = 0.761 (+/-0.018) for 11\n",
      "accuracy = 0.760 (+/-0.022) for 13\n",
      "accuracy = 0.758 (+/-0.016) for 15\n",
      "Le meilleur hyperparamètre sur le jeu d'entrainement selon my_grid_searchCV() est K =  5\n"
     ]
    }
   ],
   "source": [
    "# Appel de my_grid_searchCV\n",
    "my_grid_searchCV([3, 5, 7, 9, 11, 13, 15], 5)"
   ]
  },
  {
   "cell_type": "markdown",
   "metadata": {},
   "source": [
    "<h3><font color='green'> SUCCÈS ! La fonction my_grid_searchCV obtient le même meilleur résultat que GridSearchCV</font></h3>\n",
    "<h3><font color='blue'>Hyper-paramètre optimal est K = 5, correspondant à une accuracy de 0.765</font></h3>"
   ]
  },
  {
   "cell_type": "markdown",
   "metadata": {},
   "source": [
    "<h4>Validation des résultats :</h4>\n",
    "\n",
    "<p>\n",
    "    <ul>\n",
    "    <li>La fonction de validation croisée fournit le même résultat que la fonction scikit originale</li>\n",
    "    <li>L'algorithme fonctionne</li>\n",
    "    <li>L'évaluation a été correctement effectué</li>\n",
    "    </ul>\n",
    "</p>"
   ]
  }
 ],
 "metadata": {
  "kernelspec": {
   "display_name": "Python 3",
   "language": "python",
   "name": "python3"
  },
  "language_info": {
   "codemirror_mode": {
    "name": "ipython",
    "version": 3
   },
   "file_extension": ".py",
   "mimetype": "text/x-python",
   "name": "python",
   "nbconvert_exporter": "python",
   "pygments_lexer": "ipython3",
   "version": "3.7.6"
  }
 },
 "nbformat": 4,
 "nbformat_minor": 4
}
