{
 "cells": [
  {
   "cell_type": "markdown",
   "metadata": {},
   "source": [
    "<h1 align=center> Prédiction de loyer d'appartements </h1>"
   ]
  },
  {
   "cell_type": "markdown",
   "metadata": {},
   "source": [
    "<h2 align=center> OpenClassrooms - CentraleSupélec Certificate</h2>\n",
    "\n",
    "<h3 align=center>Jean Martial Tagro </h3>"
   ]
  },
  {
   "cell_type": "markdown",
   "metadata": {},
   "source": [
    "### Sujet\n",
    "Vous êtes consulté par une agence immobilière pour prédire les loyers des différents arrondissements de Paris, afin de les aider à prendre des décisions d'achat d'appartements."
   ]
  },
  {
   "cell_type": "markdown",
   "metadata": {},
   "source": [
    "### Objectif\n",
    "Le but de ce travail est de trouver le meilleur model pour prédire le loyer d'un appartemant, connaissant sa surface et son arrondissement dans Paris. On considèrera dans un dans un premier temps l'evaluation dans le cas de la baseline (la régression linéaire avec une seule feature : la surface) puis nous améliorerons les performances en considérant des features bidimentionnels : la surface et l'arrondissement."
   ]
  },
  {
   "cell_type": "markdown",
   "metadata": {},
   "source": [
    "### 1. Une seule feature : la surface"
   ]
  },
  {
   "cell_type": "markdown",
   "metadata": {},
   "source": [
    "##### 1.1 Récupération et filtrage du dataset"
   ]
  },
  {
   "cell_type": "markdown",
   "metadata": {},
   "source": [
    "On se base sur l'étude faite au chapitre 10. Mais cette fois, on ne va pas décomposer l'algorithme de regression linéaire en cherchant le paramètre θ qui minimise la fonction de perte, mais utiliser directement cet algorithme avec sklearn. "
   ]
  },
  {
   "cell_type": "code",
   "execution_count": 8,
   "metadata": {},
   "outputs": [],
   "source": [
    "# importation des librairies necessaires\n",
    "import numpy as np\n",
    "import pandas as pd\n",
    "import matplotlib.pyplot as plt"
   ]
  },
  {
   "cell_type": "code",
   "execution_count": 9,
   "metadata": {},
   "outputs": [],
   "source": [
    "# importation des donnees labellisés : Surfaces, Loyers\n",
    "house = pd.read_csv('house.csv')\n",
    "#house.shape"
   ]
  },
  {
   "cell_type": "code",
   "execution_count": 10,
   "metadata": {},
   "outputs": [
    {
     "data": {
      "text/plain": [
       "(545, 2)"
      ]
     },
     "execution_count": 10,
     "metadata": {},
     "output_type": "execute_result"
    }
   ],
   "source": [
    "# suppression des valeurs vides\n",
    "house.dropna\n",
    "house.shape"
   ]
  },
  {
   "cell_type": "markdown",
   "metadata": {},
   "source": [
    "Pas de valeurs vides."
   ]
  },
  {
   "cell_type": "code",
   "execution_count": 11,
   "metadata": {},
   "outputs": [
    {
     "data": {
      "text/html": [
       "<div>\n",
       "<style scoped>\n",
       "    .dataframe tbody tr th:only-of-type {\n",
       "        vertical-align: middle;\n",
       "    }\n",
       "\n",
       "    .dataframe tbody tr th {\n",
       "        vertical-align: top;\n",
       "    }\n",
       "\n",
       "    .dataframe thead th {\n",
       "        text-align: right;\n",
       "    }\n",
       "</style>\n",
       "<table border=\"1\" class=\"dataframe\">\n",
       "  <thead>\n",
       "    <tr style=\"text-align: right;\">\n",
       "      <th></th>\n",
       "      <th>loyer</th>\n",
       "      <th>surface</th>\n",
       "    </tr>\n",
       "  </thead>\n",
       "  <tbody>\n",
       "    <tr>\n",
       "      <th>0</th>\n",
       "      <td>1330</td>\n",
       "      <td>37</td>\n",
       "    </tr>\n",
       "    <tr>\n",
       "      <th>1</th>\n",
       "      <td>1400</td>\n",
       "      <td>32</td>\n",
       "    </tr>\n",
       "    <tr>\n",
       "      <th>2</th>\n",
       "      <td>904</td>\n",
       "      <td>26</td>\n",
       "    </tr>\n",
       "    <tr>\n",
       "      <th>3</th>\n",
       "      <td>955</td>\n",
       "      <td>30</td>\n",
       "    </tr>\n",
       "    <tr>\n",
       "      <th>4</th>\n",
       "      <td>2545</td>\n",
       "      <td>70</td>\n",
       "    </tr>\n",
       "    <tr>\n",
       "      <th>5</th>\n",
       "      <td>970</td>\n",
       "      <td>24</td>\n",
       "    </tr>\n",
       "    <tr>\n",
       "      <th>6</th>\n",
       "      <td>1560</td>\n",
       "      <td>41</td>\n",
       "    </tr>\n",
       "    <tr>\n",
       "      <th>7</th>\n",
       "      <td>1960</td>\n",
       "      <td>67</td>\n",
       "    </tr>\n",
       "    <tr>\n",
       "      <th>8</th>\n",
       "      <td>2000</td>\n",
       "      <td>63</td>\n",
       "    </tr>\n",
       "    <tr>\n",
       "      <th>9</th>\n",
       "      <td>2600</td>\n",
       "      <td>70</td>\n",
       "    </tr>\n",
       "  </tbody>\n",
       "</table>\n",
       "</div>"
      ],
      "text/plain": [
       "   loyer  surface\n",
       "0   1330       37\n",
       "1   1400       32\n",
       "2    904       26\n",
       "3    955       30\n",
       "4   2545       70\n",
       "5    970       24\n",
       "6   1560       41\n",
       "7   1960       67\n",
       "8   2000       63\n",
       "9   2600       70"
      ]
     },
     "execution_count": 11,
     "metadata": {},
     "output_type": "execute_result"
    }
   ],
   "source": [
    "#1er check des données\n",
    "house[:10]"
   ]
  },
  {
   "cell_type": "code",
   "execution_count": 12,
   "metadata": {},
   "outputs": [
    {
     "data": {
      "image/png": "[encoded data removed]",
      "text/plain": [
       "<Figure size 432x288 with 1 Axes>"
      ]
     },
     "metadata": {
      "needs_background": "light"
     },
     "output_type": "display_data"
    }
   ],
   "source": [
    "# 1er check du nuage des points (x,y) d'observation\n",
    "plt.plot(house['surface'], house['loyer'], 'ro', markersize=4)\n",
    "\n",
    "plt.show() # pour afficher que le graphique"
   ]
  },
  {
   "cell_type": "markdown",
   "metadata": {},
   "source": [
    "Clairement, d'après la visualisation, on peut se dire que le montant du loyer dépend de manière linéaire de la surface du logement. On peut donc émettre une hypothèse de modélisation qui est que le phénomène possède la forme d'une droite. \n",
    "\n",
    "Aussi, on peut voir que lorsque la surface devient un peu trop grande, les données semblent devenir moins modélisables facilement, il y a plus de variabilité. On va considérer pour l'instant résoudre le problème de prédiction pour les loyers inférieurs à 10,000€, afin de conserver une robustesse du modèle à ces données plutôt anormales, qui correspondent peut-être à un autre modèle distinct ou à un traitement comme outliers."
   ]
  },
  {
   "cell_type": "code",
   "execution_count": 13,
   "metadata": {},
   "outputs": [],
   "source": [
    "# on ne garde que les observations dons le loyer est inférieur à 10000\n",
    "house = house[house['loyer'] < 10000]\n",
    "#house_data.head()"
   ]
  },
  {
   "cell_type": "code",
   "execution_count": 14,
   "metadata": {},
   "outputs": [
    {
     "data": {
      "image/png": "[encoded data removed]",
      "text/plain": [
       "<Figure size 432x288 with 1 Axes>"
      ]
     },
     "metadata": {
      "needs_background": "light"
     },
     "output_type": "display_data"
    }
   ],
   "source": [
    "# On observe ...\n",
    "plt.plot(house['surface'], house['loyer'], 'ro', markersize=4)\n",
    "\n",
    "plt.show()"
   ]
  },
  {
   "cell_type": "markdown",
   "metadata": {},
   "source": [
    "##### 1.2 Training set / Testing set"
   ]
  },
  {
   "cell_type": "code",
   "execution_count": 15,
   "metadata": {},
   "outputs": [],
   "source": [
    "# Le modèle LinearRegression attend une feature à 2 dimensions, donc on met x sous deux dimensions avec reshape((-1,1))\n",
    "house_surface = np.array(house['surface']).reshape((-1,1))"
   ]
  },
  {
   "cell_type": "code",
   "execution_count": 16,
   "metadata": {},
   "outputs": [],
   "source": [
    "# on prend 80% des données pour l'entrainement\n",
    "from sklearn.model_selection import train_test_split\n",
    "x_train, x_test, y_train, y_test = train_test_split(house_surface, house['loyer'], train_size=0.8)"
   ]
  },
  {
   "cell_type": "markdown",
   "metadata": {},
   "source": [
    "##### 1.3 Creation du modèle et prédictions"
   ]
  },
  {
   "cell_type": "code",
   "execution_count": 17,
   "metadata": {},
   "outputs": [
    {
     "data": {
      "text/plain": [
       "LinearRegression(copy_X=True, fit_intercept=True, n_jobs=None, normalize=False)"
      ]
     },
     "execution_count": 17,
     "metadata": {},
     "output_type": "execute_result"
    }
   ],
   "source": [
    "from sklearn.linear_model import LinearRegression\n",
    "model1 = LinearRegression()\n",
    "\n",
    "# on fitte\n",
    "model1.fit(x_train, y_train)"
   ]
  },
  {
   "cell_type": "code",
   "execution_count": 18,
   "metadata": {},
   "outputs": [
    {
     "data": {
      "text/plain": [
       "array([2754.48728827, 1108.20114184, 1870.37065408, 2724.00050778,\n",
       "       1382.58216625, 3699.57748345,  864.30689793,  864.30689793,\n",
       "       1900.85743457,  894.79367842, 1474.04250772, 2845.94762974,\n",
       "       1656.96319065, 3211.78899562, 2297.18558093, 1504.5292882 ,\n",
       "       1108.20114184, 1047.22758086, 2388.6459224 , 1199.66148331,\n",
       "       1169.17470282, 2388.6459224 , 1717.93675163, 2022.80455653,\n",
       "       1413.06894674, 1748.42353212, 3181.30221513, 1291.12182478,\n",
       "       2602.05338583,  894.79367842, 1352.09538576, 2358.15914191,\n",
       "       1443.55572723, 3425.19645904, 1504.5292882 ,  986.25401988,\n",
       "       3211.78899562, 1809.3970931 , 2419.13270289, 1992.31777604,\n",
       "       5223.91650792, 3943.47172736, 2175.23845897, 2724.00050778,\n",
       "       2114.26489799, 2114.26489799, 1504.5292882 , 1778.91031261,\n",
       "       1260.63504429, 5193.42972743,  772.84655646, 2236.21201995,\n",
       "       1809.3970931 , 2236.21201995, 2388.6459224 , 2724.00050778,\n",
       "       3333.73611757,  894.79367842, 3333.73611757, 1931.34421506,\n",
       "       1169.17470282, 2419.13270289,  711.87299548,  925.28045891,\n",
       "       1047.22758086, 1717.93675163, 1413.06894674, 2510.59304436,\n",
       "       1748.42353212, 1352.09538576, 3699.57748345, 1352.09538576,\n",
       "       2236.21201995, 1931.34421506, 1504.5292882 ,  711.87299548,\n",
       "       5162.94294694, 1809.3970931 , 1260.63504429, 3425.19645904,\n",
       "       2967.8947517 , 1108.20114184,  772.84655646,  925.28045891,\n",
       "       1199.66148331, 2175.23845897, 1656.96319065,  742.35977597,\n",
       "       1382.58216625, 2358.15914191, 2388.6459224 , 3303.24933708,\n",
       "       1230.1482638 , 1809.3970931 ,  833.82011744, 3333.73611757,\n",
       "       1230.1482638 , 1626.47641016, 2724.00050778, 1260.63504429,\n",
       "       2815.46084925, 1443.55572723, 2053.29133702, 3638.60392247,\n",
       "       2663.0269468 , 2845.94762974,  894.79367842, 1504.5292882 ])"
      ]
     },
     "execution_count": 18,
     "metadata": {},
     "output_type": "execute_result"
    }
   ],
   "source": [
    "predict = model1.predict(x_test)\n",
    "predict"
   ]
  },
  {
   "cell_type": "markdown",
   "metadata": {},
   "source": [
    "##### 1.4 Evaluation du modèle"
   ]
  },
  {
   "cell_type": "code",
   "execution_count": 19,
   "metadata": {},
   "outputs": [
    {
     "name": "stdout",
     "output_type": "stream",
     "text": [
      "le score est de : 0.8275148627018686\n",
      "le taux d'erreur est de : 17.24851372981314 %\n"
     ]
    }
   ],
   "source": [
    "print(\"le score est de : {}\".format(model1.score(x_test, y_test)))\n",
    "print(\"le taux d'erreur est de : {} %\".format(100*(1-model1.score(x_test, y_test))))"
   ]
  },
  {
   "cell_type": "markdown",
   "metadata": {},
   "source": [
    "### 2. Deux features : la surface et l'arrondissement"
   ]
  },
  {
   "cell_type": "markdown",
   "metadata": {},
   "source": [
    "Nous allons maintenant améliorer le score du modèle précédent en ajoutant une nouvelle feature : l'arrondissement de Paris dans lequel se trouve l'appartement de sorte qu'on a maintenant des inputs bi-directionnels."
   ]
  },
  {
   "cell_type": "code",
   "execution_count": 98,
   "metadata": {},
   "outputs": [],
   "source": [
    "# recuperation du dataset correspondant\n",
    "data = pd.read_csv('house_data.csv')"
   ]
  },
  {
   "cell_type": "code",
   "execution_count": 104,
   "metadata": {},
   "outputs": [],
   "source": [
    "# suppression des n.a (non available). ATTENTION A BIEN METTRE TOUT DROP NA DANS UNE NEW VAR.\n",
    "house_na = data.dropna()\n",
    "\n",
    "#house_na.head()"
   ]
  },
  {
   "cell_type": "code",
   "execution_count": 107,
   "metadata": {},
   "outputs": [
    {
     "data": {
      "text/plain": [
       "price             0\n",
       "surface           0\n",
       "arrondissement    0\n",
       "dtype: int64"
      ]
     },
     "execution_count": 107,
     "metadata": {},
     "output_type": "execute_result"
    }
   ],
   "source": [
    "#On va se limiter aux appartement dont le loyer est inferieur à 10000 comme dans l'étude précédente\n",
    "house_data = house_na[house_na['price'] < 10000]\n",
    "\n",
    "# Check si number of inputs nul = 0\n",
    "house_data.isna().sum()"
   ]
  },
  {
   "cell_type": "markdown",
   "metadata": {},
   "source": [
    "Un check rapide du loyer en fonction uniquement de la surface donne :"
   ]
  },
  {
   "cell_type": "code",
   "execution_count": 108,
   "metadata": {},
   "outputs": [
    {
     "data": {
      "image/png": "[encoded data removed]",
      "text/plain": [
       "<Figure size 432x288 with 1 Axes>"
      ]
     },
     "metadata": {
      "needs_background": "light"
     },
     "output_type": "display_data"
    }
   ],
   "source": [
    "plt.plot(house_data['surface'], house_data['price'], 'bo', markersize=2)\n",
    "plt.show()"
   ]
  },
  {
   "cell_type": "code",
   "execution_count": 109,
   "metadata": {},
   "outputs": [],
   "source": [
    "#On va se limiter aux appartement dont le loyer est inferieur à 10000 comme dans l'étude précédente\n",
    "house_data = house_data[house_data['price'] < 10000]\n",
    "#house_data.columns"
   ]
  },
  {
   "cell_type": "code",
   "execution_count": 110,
   "metadata": {},
   "outputs": [
    {
     "data": {
      "image/png": "[encoded data removed]",
      "text/plain": [
       "<Figure size 432x288 with 2 Axes>"
      ]
     },
     "metadata": {
      "needs_background": "light"
     },
     "output_type": "display_data"
    }
   ],
   "source": [
    "# On affiche sur un graphe pour voir l'evolution du loyer en fonction de la surface d'une part puis d'autre part en \n",
    "# fonction de l'arrondissement\n",
    "\n",
    "fig,ax = plt.subplots(1,2)\n",
    "\n",
    "for index, column in enumerate(house_data.columns[1:]): # car la 1ere colonne est le 'price'\n",
    "    \n",
    "    plt.subplot(1,2,index+1)\n",
    "    plt.plot(house_data[column], house_data['price'], 'bo', markersize=2)\n",
    "\n",
    "plt.show()"
   ]
  },
  {
   "cell_type": "markdown",
   "metadata": {},
   "source": [
    "-"
   ]
  },
  {
   "cell_type": "code",
   "execution_count": 111,
   "metadata": {},
   "outputs": [
    {
     "data": {
      "text/html": [
       "<div>\n",
       "<style scoped>\n",
       "    .dataframe tbody tr th:only-of-type {\n",
       "        vertical-align: middle;\n",
       "    }\n",
       "\n",
       "    .dataframe tbody tr th {\n",
       "        vertical-align: top;\n",
       "    }\n",
       "\n",
       "    .dataframe thead th {\n",
       "        text-align: right;\n",
       "    }\n",
       "</style>\n",
       "<table border=\"1\" class=\"dataframe\">\n",
       "  <thead>\n",
       "    <tr style=\"text-align: right;\">\n",
       "      <th></th>\n",
       "      <th>surface</th>\n",
       "      <th>arrondissement</th>\n",
       "    </tr>\n",
       "  </thead>\n",
       "  <tbody>\n",
       "    <tr>\n",
       "      <th>0</th>\n",
       "      <td>46.1</td>\n",
       "      <td>1.0</td>\n",
       "    </tr>\n",
       "    <tr>\n",
       "      <th>1</th>\n",
       "      <td>41.0</td>\n",
       "      <td>1.0</td>\n",
       "    </tr>\n",
       "    <tr>\n",
       "      <th>2</th>\n",
       "      <td>55.0</td>\n",
       "      <td>1.0</td>\n",
       "    </tr>\n",
       "    <tr>\n",
       "      <th>3</th>\n",
       "      <td>46.0</td>\n",
       "      <td>1.0</td>\n",
       "    </tr>\n",
       "    <tr>\n",
       "      <th>4</th>\n",
       "      <td>49.0</td>\n",
       "      <td>1.0</td>\n",
       "    </tr>\n",
       "  </tbody>\n",
       "</table>\n",
       "</div>"
      ],
      "text/plain": [
       "   surface  arrondissement\n",
       "0     46.1             1.0\n",
       "1     41.0             1.0\n",
       "2     55.0             1.0\n",
       "3     46.0             1.0\n",
       "4     49.0             1.0"
      ]
     },
     "execution_count": 111,
     "metadata": {},
     "output_type": "execute_result"
    }
   ],
   "source": [
    "house_data[['surface','arrondissement']].head()"
   ]
  },
  {
   "cell_type": "markdown",
   "metadata": {},
   "source": [
    "On a 818 inputs de deux dimensions. L'algorithme de K-NN convient bien ici. Nous étudier ses performances sur ce modèle après avoir trouvé l'hyper-paramètre K optimal (qui minimise le taux d'erreurs de prédiction). La prédiction consiste à donner le loyer, connaissant sa surface et son arrondissement dans Paris."
   ]
  },
  {
   "cell_type": "code",
   "execution_count": 134,
   "metadata": {},
   "outputs": [],
   "source": [
    "# Test/Training Split\n",
    "x2_train, x2_test, y2_train, y2_test = train_test_split(house_data[['surface','arrondissement']], house_data['price'], train_size = 0.8)"
   ]
  },
  {
   "cell_type": "code",
   "execution_count": 135,
   "metadata": {},
   "outputs": [
    {
     "data": {
      "text/plain": [
       "KNeighborsRegressor(algorithm='auto', leaf_size=30, metric='minkowski',\n",
       "                    metric_params=None, n_jobs=None, n_neighbors=3, p=2,\n",
       "                    weights='uniform')"
      ]
     },
     "execution_count": 135,
     "metadata": {},
     "output_type": "execute_result"
    }
   ],
   "source": [
    "# Test sur un 3-NN\n",
    "from sklearn import neighbors\n",
    "\n",
    "knn = neighbors.KNeighborsRegressor(3)\n",
    "knn.fit(x2_train, y2_train)"
   ]
  },
  {
   "cell_type": "markdown",
   "metadata": {},
   "source": [
    "#### 2... Prediction et evaluation"
   ]
  },
  {
   "cell_type": "code",
   "execution_count": 136,
   "metadata": {},
   "outputs": [
    {
     "data": {
      "text/plain": [
       "(650,)"
      ]
     },
     "execution_count": 136,
     "metadata": {},
     "output_type": "execute_result"
    }
   ],
   "source": [
    "predictions = knn.predict((x2_train))\n",
    "predictions.shape"
   ]
  },
  {
   "cell_type": "code",
   "execution_count": 140,
   "metadata": {},
   "outputs": [
    {
     "data": {
      "text/plain": [
       "(650,)"
      ]
     },
     "execution_count": 140,
     "metadata": {},
     "output_type": "execute_result"
    }
   ],
   "source": [
    "y2_train.shape"
   ]
  },
  {
   "cell_type": "code",
   "execution_count": 145,
   "metadata": {},
   "outputs": [
    {
     "name": "stdout",
     "output_type": "stream",
     "text": [
      "le score 3-NN est de : 0.7497682349362161\n",
      "le taux d'erreur 3-NN est de : 25.023176506378388 %\n"
     ]
    }
   ],
   "source": [
    "print(\"le score 3-NN est de : {}\".format(knn.score(x2_test, y2_test)))\n",
    "print(\"le taux d'erreur 3-NN est de : {} %\".format(100*(1-knn.score(x2_test, y2_test))))"
   ]
  },
  {
   "cell_type": "markdown",
   "metadata": {},
   "source": [
    "Performance du 3-NN plus faible que celle de la Regression linéaire simple qui avait un score de 82,75%. Cherchons maintenant à optimiser k pour trouver le meilleur algorithme K-NN."
   ]
  },
  {
   "cell_type": "code",
   "execution_count": 162,
   "metadata": {},
   "outputs": [
    {
     "data": {
      "image/png": "[encoded data removed]",
      "text/plain": [
       "<Figure size 432x288 with 1 Axes>"
      ]
     },
     "metadata": {
      "needs_background": "light"
     },
     "output_type": "display_data"
    }
   ],
   "source": [
    "# Trouvons le meilleur k-NN pour cette problematique en testant differents K = [2-?]\n",
    "\n",
    "errors = []\n",
    "\n",
    "for k in range(2,60):\n",
    "    knn = neighbors.KNeighborsRegressor(k)\n",
    "    knn.fit(x2_train, y2_train)\n",
    "    errors.append(100*(1-knn.score(x2_test, y2_test)))\n",
    "    \n",
    "# Representation\n",
    "plt.xlabel('K')\n",
    "plt.ylabel('% erreur')\n",
    "plt.title('% erreur en fontion de K')\n",
    "plt.plot(range(2,60), errors)\n",
    "plt.show()\n",
    "    "
   ]
  },
  {
   "cell_type": "markdown",
   "metadata": {},
   "source": [
    "L'erreur semble etre minimale pour K ~ 35. "
   ]
  },
  {
   "cell_type": "code",
   "execution_count": 163,
   "metadata": {},
   "outputs": [
    {
     "data": {
      "text/plain": [
       "KNeighborsRegressor(algorithm='auto', leaf_size=30, metric='minkowski',\n",
       "                    metric_params=None, n_jobs=None, n_neighbors=35, p=2,\n",
       "                    weights='uniform')"
      ]
     },
     "execution_count": 163,
     "metadata": {},
     "output_type": "execute_result"
    }
   ],
   "source": [
    "knn35 = neighbors.KNeighborsRegressor(35)\n",
    "knn35.fit(x2_train, y2_train)"
   ]
  },
  {
   "cell_type": "code",
   "execution_count": 164,
   "metadata": {},
   "outputs": [
    {
     "name": "stdout",
     "output_type": "stream",
     "text": [
      "le score 35-NN est de : 87.33487552237287 % \n",
      "le taux d'erreur 35-NN est de : 12.665124477627131 %\n"
     ]
    }
   ],
   "source": [
    "print(\"le score 35-NN est de : {} % \".format(100*knn35.score(x2_test, y2_test)))\n",
    "print(\"le taux d'erreur 35-NN est de : {} %\".format(100*(1-knn35.score(x2_test, y2_test))))"
   ]
  },
  {
   "cell_type": "markdown",
   "metadata": {},
   "source": [
    "### BINGO ! \n",
    "#### Le score du 35-NN est d'environ 87,33 % > 82,75 % de la regression simple"
   ]
  },
  {
   "cell_type": "markdown",
   "metadata": {},
   "source": [
    "Explorer une <a href='>autre piste d'amélioration :\n",
    "\"file:///Users/jean-martial/Downloads/Correction_Activite_regression_lineaire.html\""
   ]
  },
  {
   "cell_type": "code",
   "execution_count": null,
   "metadata": {},
   "outputs": [],
   "source": []
  }
 ],
 "metadata": {
  "kernelspec": {
   "display_name": "Python 3",
   "language": "python",
   "name": "python3"
  },
  "language_info": {
   "codemirror_mode": {
    "name": "ipython",
    "version": 3
   },
   "file_extension": ".py",
   "mimetype": "text/x-python",
   "name": "python",
   "nbconvert_exporter": "python",
   "pygments_lexer": "ipython3",
   "version": "3.7.6"
  }
 },
 "nbformat": 4,
 "nbformat_minor": 4
}
