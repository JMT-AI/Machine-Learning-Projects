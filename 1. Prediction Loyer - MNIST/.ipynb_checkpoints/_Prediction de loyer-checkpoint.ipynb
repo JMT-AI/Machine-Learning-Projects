{
 "cells": [
  {
   "cell_type": "markdown",
   "metadata": {},
   "source": [
    "<h1 align=center> Étude 1 : de prédiction de loyer d'appartements </h1>"
   ]
  },
  {
   "cell_type": "markdown",
   "metadata": {},
   "source": [
    "<h2 align=center> OpenClassrooms - CentraleSupélec Certificate</h2>\n",
    "<h3 align=center>Jean Martial Tagro </h3>"
   ]
  },
  {
   "cell_type": "markdown",
   "metadata": {},
   "source": [
    "---"
   ]
  },
  {
   "cell_type": "markdown",
   "metadata": {},
   "source": [
    "##### Objectif 1er"
   ]
  },
  {
   "cell_type": "markdown",
   "metadata": {},
   "source": [
    "Le but de ce travail est de prédire le loyer d'un appartemant, connaissant sa surface. On considère donc dans un premier temps un vecteur prédicteurs <b>unidimensionnel</b> c'est-à-dire qu'on a affaire à une seule <i>feature</i> en l'occurence la surface."
   ]
  },
  {
   "cell_type": "code",
   "execution_count": 2,
   "metadata": {},
   "outputs": [],
   "source": [
    "# importation des librairies necessaires\n",
    "import numpy as np\n",
    "import pandas as pd\n",
    "import matplotlib.pyplot as plt"
   ]
  },
  {
   "cell_type": "code",
   "execution_count": 3,
   "metadata": {},
   "outputs": [],
   "source": [
    "# importation des donnees labellisés : Surfaces, Loyers\n",
    "house_data = pd.read_csv('house.csv')"
   ]
  },
  {
   "cell_type": "code",
   "execution_count": 4,
   "metadata": {},
   "outputs": [
    {
     "data": {
      "text/html": [
       "<div>\n",
       "<style scoped>\n",
       "    .dataframe tbody tr th:only-of-type {\n",
       "        vertical-align: middle;\n",
       "    }\n",
       "\n",
       "    .dataframe tbody tr th {\n",
       "        vertical-align: top;\n",
       "    }\n",
       "\n",
       "    .dataframe thead th {\n",
       "        text-align: right;\n",
       "    }\n",
       "</style>\n",
       "<table border=\"1\" class=\"dataframe\">\n",
       "  <thead>\n",
       "    <tr style=\"text-align: right;\">\n",
       "      <th></th>\n",
       "      <th>loyer</th>\n",
       "      <th>surface</th>\n",
       "    </tr>\n",
       "  </thead>\n",
       "  <tbody>\n",
       "    <tr>\n",
       "      <th>0</th>\n",
       "      <td>1330</td>\n",
       "      <td>37</td>\n",
       "    </tr>\n",
       "    <tr>\n",
       "      <th>1</th>\n",
       "      <td>1400</td>\n",
       "      <td>32</td>\n",
       "    </tr>\n",
       "    <tr>\n",
       "      <th>2</th>\n",
       "      <td>904</td>\n",
       "      <td>26</td>\n",
       "    </tr>\n",
       "    <tr>\n",
       "      <th>3</th>\n",
       "      <td>955</td>\n",
       "      <td>30</td>\n",
       "    </tr>\n",
       "    <tr>\n",
       "      <th>4</th>\n",
       "      <td>2545</td>\n",
       "      <td>70</td>\n",
       "    </tr>\n",
       "    <tr>\n",
       "      <th>5</th>\n",
       "      <td>970</td>\n",
       "      <td>24</td>\n",
       "    </tr>\n",
       "    <tr>\n",
       "      <th>6</th>\n",
       "      <td>1560</td>\n",
       "      <td>41</td>\n",
       "    </tr>\n",
       "    <tr>\n",
       "      <th>7</th>\n",
       "      <td>1960</td>\n",
       "      <td>67</td>\n",
       "    </tr>\n",
       "    <tr>\n",
       "      <th>8</th>\n",
       "      <td>2000</td>\n",
       "      <td>63</td>\n",
       "    </tr>\n",
       "    <tr>\n",
       "      <th>9</th>\n",
       "      <td>2600</td>\n",
       "      <td>70</td>\n",
       "    </tr>\n",
       "  </tbody>\n",
       "</table>\n",
       "</div>"
      ],
      "text/plain": [
       "   loyer  surface\n",
       "0   1330       37\n",
       "1   1400       32\n",
       "2    904       26\n",
       "3    955       30\n",
       "4   2545       70\n",
       "5    970       24\n",
       "6   1560       41\n",
       "7   1960       67\n",
       "8   2000       63\n",
       "9   2600       70"
      ]
     },
     "execution_count": 4,
     "metadata": {},
     "output_type": "execute_result"
    }
   ],
   "source": [
    "#1er check des données\n",
    "house_data[:10]"
   ]
  },
  {
   "cell_type": "code",
   "execution_count": 5,
   "metadata": {},
   "outputs": [
    {
     "data": {
      "image/png": "[encoded data removed]",
      "text/plain": [
       "<Figure size 432x288 with 1 Axes>"
      ]
     },
     "metadata": {
      "needs_background": "light"
     },
     "output_type": "display_data"
    }
   ],
   "source": [
    "# 1er check du nuage des points (x,y) d'observation\n",
    "plt.plot(house_data['surface'], house_data['loyer'], 'ro', markersize=4)\n",
    "\n",
    "plt.show() # pour afficher que le graphique"
   ]
  },
  {
   "cell_type": "markdown",
   "metadata": {},
   "source": [
    "Clairement, d'après la visualisation, on peut se dire que le montant du loyer dépend de manière linéaire de la surface du logement. On peut donc émettre une hypothèse de modélisation qui est que le phénomène possède la forme d'une droite. \n",
    "\n",
    "Aussi, on peut voir que lorsque la surface devient un peu trop grande, les données semblent devenir moins modélisables facilement, il y a plus de variabilité. On va considérer pour l'instant résoudre le problème de prédiction pour les loyers inférieurs à 10,000€, afin de conserver une robustesse du modèle à ces données plutôt anormales, qui correspondent peut-être à un autre modèle distinct ou à un traitement comme outliers."
   ]
  },
  {
   "cell_type": "code",
   "execution_count": 6,
   "metadata": {},
   "outputs": [],
   "source": [
    "# on ne garde que les observations dons le loyer est inférieur à 10000\n",
    "house_data = house_data[house_data['loyer'] < 10000]\n",
    "#house_data.head()"
   ]
  },
  {
   "cell_type": "code",
   "execution_count": 7,
   "metadata": {},
   "outputs": [
    {
     "data": {
      "image/png": "[encoded data removed]",
      "text/plain": [
       "<Figure size 432x288 with 1 Axes>"
      ]
     },
     "metadata": {
      "needs_background": "light"
     },
     "output_type": "display_data"
    }
   ],
   "source": [
    "# On observe ...\n",
    "plt.plot(house_data['surface'], house_data['loyer'], 'ro', markersize=4)\n",
    "\n",
    "plt.show()"
   ]
  },
  {
   "cell_type": "markdown",
   "metadata": {},
   "source": [
    "Il y a déjà moins de dispersion globalement. \n",
    "Notre objectif ici est de trouver le modèle statistique qui fitte le mieux ce phénomène.\n",
    "\n",
    "Rappel : <b>données = modèle sous-jacent + bruit irréductible</b>\n",
    "\n",
    "On peut déjà poser la contrainte de forme (modèle sous-jacent) : une regression linéaire est adéquate.\n",
    "\n",
    "Cette regression est définie ici par : y = a.x + b\n",
    "\n",
    "Il faut trouver le couple de paramètres θ = (a,b) qui fitte au mieux les points d'observation, soit :\n",
    "- en minimisant le risque empirique, somme des distances euclidiennes (fonction loss)\n",
    "- en maximisant la fonction de vraisemblance\n",
    "\n",
    "On choisit la 1ere solution.\n",
    "\n",
    "![title](Images/im1.png)\n",
    "\n",
    "## On montre que : L'estimateur des moindres carrés\n",
    "\n",
    "![title](Images/im2.png)\n",
    "\n",
    "### Détails de la solution\n",
    "\n",
    "On cherche à minimiser la fonction E en fonction de theta. La fonction est convexe (c’est une somme de carrés), donc elle possède un optimum global (en l’occurrence un minimum), qui se trouve à l’endroit où la dérivée première en theta est nulle. Pour les détails de la démonstration, http://eli.thegreenplace.net/2014/derivation-of-the-normal-equation-for-linear-regression."
   ]
  },
  {
   "cell_type": "markdown",
   "metadata": {},
   "source": [
    "Mais on peut aussi utiliser un algorithme appelé <strong>descente de gradient</strong> pour trouver une approximation de la solution. C'est en particulier utile lorsque l'on a beaucoup de données d'exemple, car c'est assez long pour un ordinateur de calculer la solution exacte ci-dessus (on calcule un inverse de matrice, ce qui n'est pas gratuit en temps de calcul !)."
   ]
  },
  {
   "cell_type": "code",
   "execution_count": 8,
   "metadata": {},
   "outputs": [
    {
     "name": "stdout",
     "output_type": "stream",
     "text": [
      "[[ 1. 37.]\n",
      " [ 1. 32.]\n",
      " [ 1. 26.]\n",
      " ...\n",
      " [ 1. 70.]\n",
      " [ 1. 42.]\n",
      " [ 1. 44.]]\n"
     ]
    }
   ],
   "source": [
    "X = np.matrix([np.ones(house_data.shape[0]), house_data['surface'].values]).T\n",
    "print(X)"
   ]
  },
  {
   "cell_type": "code",
   "execution_count": 9,
   "metadata": {},
   "outputs": [
    {
     "name": "stdout",
     "output_type": "stream",
     "text": [
      "[[266.45460292]\n",
      " [ 30.66119596]]\n"
     ]
    }
   ],
   "source": [
    "# On décompose le dataset et on le transforme en matrices pour pouvoir effectuer notre calcul\n",
    "X = np.matrix([np.ones(house_data.shape[0]), house_data['surface'].values]).T\n",
    "y = np.matrix(house_data['loyer']).T\n",
    "\n",
    "# On effectue le calcul exact du paramètre theta\n",
    "theta = np.linalg.inv(X.T.dot(X)).dot(X.T).dot(y)\n",
    "\n",
    "print(theta)"
   ]
  },
  {
   "cell_type": "markdown",
   "metadata": {},
   "source": [
    "Ainsi modèle final : \n",
    "#### y = 30,7 x surface + 266,4"
   ]
  },
  {
   "cell_type": "code",
   "execution_count": 10,
   "metadata": {},
   "outputs": [
    {
     "data": {
      "image/png": "[encoded data removed]",
      "text/plain": [
       "<Figure size 432x288 with 1 Axes>"
      ]
     },
     "metadata": {
      "needs_background": "light"
     },
     "output_type": "display_data"
    }
   ],
   "source": [
    "# Representation\n",
    "plt.xlabel('Surface')\n",
    "plt.ylabel('Loyer')\n",
    "\n",
    "plt.plot(house_data['surface'], house_data['loyer'], 'ro', markersize=4)\n",
    "\n",
    "# On affiche la droite entre 0 et 250\n",
    "plt.plot([0,250], [theta.item(0),theta.item(0) + 250 * theta.item(1)], linestyle='--', c='#000000')\n",
    "# En o , on prend l'ordonné à l'origine et en 250, on remplace dans la formule.\n",
    "plt.show()"
   ]
  },
  {
   "cell_type": "markdown",
   "metadata": {},
   "source": [
    "### Prédiction sur 35 m2"
   ]
  },
  {
   "cell_type": "code",
   "execution_count": 11,
   "metadata": {},
   "outputs": [
    {
     "name": "stdout",
     "output_type": "stream",
     "text": [
      "1339.5964615602256\n"
     ]
    }
   ],
   "source": [
    "print(theta.item(0) + 35 * theta.item(1))"
   ]
  },
  {
   "cell_type": "markdown",
   "metadata": {},
   "source": [
    "On vient ici de décomposer l’entraînement de la régression linéaire. En réalité, vous vous doutez bien que cette régression est déjà implémentée dans le package scikit-learn. On peut l'utiliser directement de la manière suivante :"
   ]
  },
  {
   "cell_type": "code",
   "execution_count": 14,
   "metadata": {},
   "outputs": [],
   "source": [
    "#from sklearn import linear_model\n",
    "#regr = linear_model.LinearRegression()\n",
    "#regr.fit(X, y)\n",
    "#regr.predict(<des données de test>)"
   ]
  },
  {
   "cell_type": "markdown",
   "metadata": {},
   "source": [
    "### Sampling ou Echantillonage\n",
    "Cette phase consiste à selectionner une partie des données (si trop volumineuse pour éviter de longs temps de calculs inutiles) pour faire la modélisation; avant même de cinder les données en training/testing.\n",
    "\n",
    "ATTENTION à introduire du bias. Les données sélectionnées doivent être bien distribuées."
   ]
  },
  {
   "cell_type": "code",
   "execution_count": 122,
   "metadata": {},
   "outputs": [
    {
     "data": {
      "text/plain": [
       "1072"
      ]
     },
     "execution_count": 122,
     "metadata": {},
     "output_type": "execute_result"
    }
   ],
   "source": [
    "house_data.size"
   ]
  },
  {
   "cell_type": "code",
   "execution_count": 123,
   "metadata": {},
   "outputs": [],
   "source": [
    "#house_data"
   ]
  },
  {
   "cell_type": "code",
   "execution_count": 124,
   "metadata": {},
   "outputs": [
    {
     "data": {
      "text/plain": [
       "array([142, 479, 120, 348,  68, 531,  52, 241, 436, 222, 114, 426, 275,\n",
       "        10, 286, 534,  87, 102, 448, 469, 513, 230, 451, 129,  15,  28,\n",
       "       442, 385, 128, 251, 227, 307, 168, 336, 145,  68, 197, 260, 298,\n",
       "       252, 313, 337, 377, 109, 368, 373, 326, 411, 290, 274, 453, 523,\n",
       "       243])"
      ]
     },
     "execution_count": 124,
     "metadata": {},
     "output_type": "execute_result"
    }
   ],
   "source": [
    "sample = np.random.randint(house_data.shape[0], size=int(house_data.shape[0]*0.1))\n",
    "sample"
   ]
  },
  {
   "cell_type": "code",
   "execution_count": 126,
   "metadata": {},
   "outputs": [],
   "source": [
    "#sampled_data = house_data.loc[sample]\n",
    "#print(sampled_data.shape)\n",
    "#sampled_data.head()"
   ]
  }
 ],
 "metadata": {
  "kernelspec": {
   "display_name": "Python 3",
   "language": "python",
   "name": "python3"
  },
  "language_info": {
   "codemirror_mode": {
    "name": "ipython",
    "version": 3
   },
   "file_extension": ".py",
   "mimetype": "text/x-python",
   "name": "python",
   "nbconvert_exporter": "python",
   "pygments_lexer": "ipython3",
   "version": "3.7.6"
  }
 },
 "nbformat": 4,
 "nbformat_minor": 4
}
