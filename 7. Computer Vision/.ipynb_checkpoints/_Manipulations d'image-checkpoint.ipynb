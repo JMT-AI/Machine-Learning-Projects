{
 "cells": [
  {
   "cell_type": "markdown",
   "metadata": {},
   "source": [
    "<font color='green'>\n",
    "    <h1 align=center>TP — Manipulations d'images en Python</h1>\n",
    "          </font>"
   ]
  },
  {
   "cell_type": "markdown",
   "metadata": {},
   "source": [
    "<h2 align=center>CentraleSupélec-OpenClassrooms Certifiyng Training</h2>\n",
    "\n",
    "<h3 align=center>Jean Martial Tagro </h3>"
   ]
  },
  {
   "cell_type": "markdown",
   "metadata": {},
   "source": [
    "### 1. Premières manipulations"
   ]
  },
  {
   "cell_type": "code",
   "execution_count": 15,
   "metadata": {},
   "outputs": [
    {
     "name": "stdout",
     "output_type": "stream",
     "text": [
      "Populating the interactive namespace from numpy and matplotlib\n"
     ]
    }
   ],
   "source": [
    "from PIL import Image\n",
    "%pylab inline"
   ]
  },
  {
   "cell_type": "code",
   "execution_count": 3,
   "metadata": {},
   "outputs": [],
   "source": [
    "# charger l'image\n",
    "img = Image.open('tigre.jpg')"
   ]
  },
  {
   "cell_type": "code",
   "execution_count": 4,
   "metadata": {},
   "outputs": [
    {
     "name": "stdout",
     "output_type": "stream",
     "text": [
      "Largeur : 300 px, hauteur : 168 px\n"
     ]
    }
   ],
   "source": [
    "# Récupérer et afficher la taille de l'image (en pixels)\n",
    "w, h = img.size\n",
    "print(\"Largeur : {} px, hauteur : {} px\".format(w, h))"
   ]
  },
  {
   "cell_type": "markdown",
   "metadata": {},
   "source": [
    "Ce résultat signifie que l'image analogique a été découpée en 300 pixels sur la largeur et 168 pixels sur la hauteur pendant l'échantillonnage.\n",
    "\n",
    "Maintenant, inspectons les valeurs de pixels. L'attribut  Image.mode  nous informe sur le format de pixel utilisé, autrement dit sur la façon dont la quantification a été faite. De plus, la méthode Image.getpixel permet de récupérer l'intensité associée au pixel à une position donnée."
   ]
  },
  {
   "cell_type": "code",
   "execution_count": 5,
   "metadata": {},
   "outputs": [
    {
     "name": "stdout",
     "output_type": "stream",
     "text": [
      "Format des pixels : RGB\n",
      "Valeur du pixel situé en (20,100) : (129, 147, 45)\n"
     ]
    }
   ],
   "source": [
    "# Afficher son mode de quantification\n",
    "print(\"Format des pixels : {}\".format(img.mode))\n",
    "\n",
    "# Récupérer et afficher la valeur du pixel à une position précise\n",
    "px_value = img.getpixel((20,100))\n",
    "print(\"Valeur du pixel situé en (20,100) : {}\".format(px_value))"
   ]
  },
  {
   "cell_type": "markdown",
   "metadata": {},
   "source": [
    "Nous pouvons également récupérer d'un seul coup les valeurs de tous les pixels de l'image à l'aide de la bibliothèque numpy :"
   ]
  },
  {
   "cell_type": "code",
   "execution_count": 6,
   "metadata": {},
   "outputs": [
    {
     "name": "stdout",
     "output_type": "stream",
     "text": [
      "Taille de la matrice de pixels : (168, 300, 3)\n"
     ]
    }
   ],
   "source": [
    "import numpy as np\n",
    "\n",
    "# Récupérer les valeurs de tous les pixels sous forme d'une matrice\n",
    "matrice_pixels_values = np.array(img)\n",
    "matrice_pixels_values\n",
    "\n",
    "# Afficher la taille de la matrice de pixels\n",
    "print(\"Taille de la matrice de pixels : {}\".format(matrice_pixels_values.shape))"
   ]
  },
  {
   "cell_type": "markdown",
   "metadata": {},
   "source": [
    "Il s'agit bien d'une image en couleur avec 3 dimensions; la dernière correspondant au RGB."
   ]
  },
  {
   "cell_type": "code",
   "execution_count": 12,
   "metadata": {},
   "outputs": [
    {
     "data": {
      "text/plain": [
       "array([[[109,  80,  36],\n",
       "        [130, 101,  57],\n",
       "        [135, 106,  62],\n",
       "        ...,\n",
       "        [ 61,  40,  21],\n",
       "        [ 59,  41,  21],\n",
       "        [ 58,  40,  20]],\n",
       "\n",
       "       [[117,  88,  44],\n",
       "        [140, 111,  67],\n",
       "        [146, 117,  73],\n",
       "        ...,\n",
       "        [ 51,  32,  15],\n",
       "        [ 50,  33,  15],\n",
       "        [ 51,  34,  16]],\n",
       "\n",
       "       [[124,  95,  51],\n",
       "        [150, 121,  77],\n",
       "        [158, 129,  85],\n",
       "        ...,\n",
       "        [ 39,  23,   7],\n",
       "        [ 40,  24,   8],\n",
       "        [ 40,  24,   8]],\n",
       "\n",
       "       ...,\n",
       "\n",
       "       [[132, 107,  77],\n",
       "        [169, 144, 114],\n",
       "        [171, 146, 116],\n",
       "        ...,\n",
       "        [185, 160, 130],\n",
       "        [191, 165, 140],\n",
       "        [149, 123, 100]],\n",
       "\n",
       "       [[153, 128,  98],\n",
       "        [193, 168, 138],\n",
       "        [196, 171, 141],\n",
       "        ...,\n",
       "        [194, 169, 139],\n",
       "        [198, 172, 147],\n",
       "        [160, 134, 111]],\n",
       "\n",
       "       [[166, 141, 111],\n",
       "        [196, 171, 141],\n",
       "        [190, 165, 135],\n",
       "        ...,\n",
       "        [165, 140, 110],\n",
       "        [168, 142, 117],\n",
       "        [134, 108,  85]]], dtype=uint8)"
      ]
     },
     "execution_count": 12,
     "metadata": {},
     "output_type": "execute_result"
    }
   ],
   "source": [
    "# afficher les elements\n",
    "matrice_pixels_values"
   ]
  },
  {
   "cell_type": "markdown",
   "metadata": {},
   "source": [
    "#### Attention à l'inversion ligne/colonne et abscisse/ordonnée : \n",
    "l'intensité du pixel d'abscisse x et d'ordonnée y\n",
    " correspond à l'élément de la matrice situé à la y\n",
    " -ème ligne et x\n",
    " -ème colonne !  "
   ]
  },
  {
   "cell_type": "markdown",
   "metadata": {},
   "source": [
    "---"
   ]
  },
  {
   "cell_type": "markdown",
   "metadata": {},
   "source": [
    "### 2. Histogrammes sur la version noir et blanc de l'image :\n",
    "\n",
    "![title](tigre_blackwhite.jpg)"
   ]
  },
  {
   "cell_type": "code",
   "execution_count": 22,
   "metadata": {},
   "outputs": [
    {
     "data": {
      "image/png": "[encoded data removed]",
      "text/plain": [
       "<Figure size 432x288 with 1 Axes>"
      ]
     },
     "metadata": {
      "needs_background": "light"
     },
     "output_type": "display_data"
    }
   ],
   "source": [
    "# Charger l'image comme matrice de pixels\n",
    "img = np.array(Image.open('tigre_blackwhite.jpg'))\n",
    "\n",
    "# Générer et afficher l'histogramme\n",
    "# Pour le normaliser : argument density=True dans plt.hist\n",
    "# Pour avoir l'histogramme cumulé : argument cumulative=True\n",
    "n, bins, patches = plt.hist(img.flatten(), bins=range(256))\n",
    "plt.xlabel('Niveau de gris')\n",
    "plt.ylabel('Nombre de pixels')\n",
    "plt.title(\"Histogramme de l'image du tigre\")\n",
    "plt.show()"
   ]
  },
  {
   "cell_type": "markdown",
   "metadata": {},
   "source": [
    "Il s'agit d'un outil très important en traitement d'images, car sa modification permet d'ajuster la dynamique des niveaux de gris ou des couleurs dans une image afin de la rendre plus agréable visuellement. Grossièrement, à gauche se situent les pixels noirs, à droite les pixels blancs, et au milieu, toutes les nuances de gris."
   ]
  },
  {
   "cell_type": "markdown",
   "metadata": {},
   "source": [
    "#### 2.1 Étirement d’histogrammes"
   ]
  },
  {
   "cell_type": "markdown",
   "metadata": {},
   "source": [
    "Une première application consiste à corriger la luminosité, ou exposition, de l'image. Analysons la forme des histogrammes pour des images dont l'exposition est mauvaise :\n",
    "- pour l'image trop sombre, ou <strong>sous-exposée</strong>, la majorité des pixels se situent dans la partie gauche de l'histogramme, vers les valeurs de niveaux de gris faibles\n",
    "- Inversement, les pixels de l'image trop claire, ou <strong>sur-exposée</strong>, se concentrent dans la partie droite de l'histogramme.\n",
    "\n",
    "Ainsi, pour corriger les défauts liés à l’exposition d'une image, il suffit simplement d'<strong>étirer son histogramme</strong> : "
   ]
  },
  {
   "cell_type": "code",
   "execution_count": 39,
   "metadata": {},
   "outputs": [],
   "source": [
    "from PIL.ImageOps import autocontrast\n",
    "img_better = autocontrast(Image.open('tigre_blackwhite.jpg'), cutoff=0.5)"
   ]
  },
  {
   "cell_type": "code",
   "execution_count": 40,
   "metadata": {},
   "outputs": [
    {
     "data": {
      "image/png": "[encoded data removed]",
      "text/plain": [
       "<Figure size 432x288 with 1 Axes>"
      ]
     },
     "metadata": {
      "needs_background": "light"
     },
     "output_type": "display_data"
    }
   ],
   "source": [
    "# Charger l'image comme matrice de pixels\n",
    "img_better = np.array(img_better)\n",
    "\n",
    "# Générer et afficher l'histogramme\n",
    "# Pour le normaliser : argument density=True dans plt.hist\n",
    "# Pour avoir l'histogramme cumulé : argument cumulative=True\n",
    "n, bins, patches = plt.hist(img_better.flatten(), bins=range(256))\n",
    "plt.xlabel('Niveau de gris')\n",
    "plt.ylabel('Nombre de pixels')\n",
    "plt.title(\"Histogramme de l'image dont l'exposition à été amélioré du tigre\")\n",
    "plt.show()"
   ]
  },
  {
   "cell_type": "markdown",
   "metadata": {},
   "source": [
    "Voir cours, suite des techniques d'amélioration et les transformation géométriques."
   ]
  },
  {
   "cell_type": "code",
   "execution_count": null,
   "metadata": {},
   "outputs": [],
   "source": []
  }
 ],
 "metadata": {
  "kernelspec": {
   "display_name": "Python 3",
   "language": "python",
   "name": "python3"
  },
  "language_info": {
   "codemirror_mode": {
    "name": "ipython",
    "version": 3
   },
   "file_extension": ".py",
   "mimetype": "text/x-python",
   "name": "python",
   "nbconvert_exporter": "python",
   "pygments_lexer": "ipython3",
   "version": "3.7.6"
  }
 },
 "nbformat": 4,
 "nbformat_minor": 4
}
